{
 "cells": [
  {
   "cell_type": "markdown",
   "metadata": {},
   "source": [
    "# Python Assignment 1"
   ]
  },
  {
   "cell_type": "markdown",
   "metadata": {},
   "source": [
    "Motive:Do every question in such a way that it it is udaptable to any value used by the user. Keeping in mind a long time practice for myself."
   ]
  },
  {
   "cell_type": "markdown",
   "metadata": {},
   "source": [
    "Question 1: Write a program which will find all such numbers which are divisible by 7 but are not a multiple of 5, between 2000 and 3200 (both included). The numbers obtained should be printed\n",
    "in a comma-separated sequence on a single line."
   ]
  },
  {
   "cell_type": "code",
   "execution_count": 26,
   "metadata": {},
   "outputs": [
    {
     "name": "stdout",
     "output_type": "stream",
     "text": [
      "Lower Bound:2000\n",
      "Upper Bound:3200\n",
      "Divisible by:7\n",
      "Not Divisible by:5\n",
      "2002,2009,2016,2023,2037,2044,2051,2058,2072,2079,2086,2093,2107,2114,2121,2128,2142,2149,2156,2163,2177,2184,2191,2198,2212,2219,2226,2233,2247,2254,2261,2268,2282,2289,2296,2303,2317,2324,2331,2338,2352,2359,2366,2373,2387,2394,2401,2408,2422,2429,2436,2443,2457,2464,2471,2478,2492,2499,2506,2513,2527,2534,2541,2548,2562,2569,2576,2583,2597,2604,2611,2618,2632,2639,2646,2653,2667,2674,2681,2688,2702,2709,2716,2723,2737,2744,2751,2758,2772,2779,2786,2793,2807,2814,2821,2828,2842,2849,2856,2863,2877,2884,2891,2898,2912,2919,2926,2933,2947,2954,2961,2968,2982,2989,2996,3003,3017,3024,3031,3038,3052,3059,3066,3073,3087,3094,3101,3108,3122,3129,3136,3143,3157,3164,3171,3178,3192,3199\n"
     ]
    }
   ],
   "source": [
    "# INPUT OF LOWER BOUND, UPPER BOUND, DIVISIBLE NUMBER(non zero) AND NON_DIVISIBLE NUMBER(non zero)\n",
    "lower_bound=int(input(\"Lower Bound:\"))\n",
    "upper_bound=int(input(\"Upper Bound:\"))\n",
    "divisible=int(input(\"Divisible by:\"))\n",
    "not_divisible=int(input(\"Not Divisible by:\"))\n",
    "\n",
    "# first number in bound divisible by var \"divisible\"\n",
    "first=lower_bound-lower_bound%divisible+divisible                \n",
    "\n",
    "# last possible number in bound divisble by var \"divisible\" but not divisible by var \"not_divisible\"\n",
    "if ((upper_bound-upper_bound%divisible)%not_divisible==0):      \n",
    "    last=upper_bound-upper_bound%divisible-divisible\n",
    "else:\n",
    "    last=upper_bound-upper_bound%divisible\n",
    "\n",
    "#loop to print the values\n",
    "for i in range(first,last+1,divisible):\n",
    "    if (i%not_divisible):\n",
    "        if i==last:\n",
    "            print(i)\n",
    "        else:\n",
    "            print(i,end=',')    "
   ]
  },
  {
   "cell_type": "markdown",
   "metadata": {},
   "source": [
    "Question 2: Write a Python program to accept the user's first and last name and then getting them printed in the the reverse order with a space between first name and last name."
   ]
  },
  {
   "cell_type": "code",
   "execution_count": 28,
   "metadata": {},
   "outputs": [
    {
     "name": "stdout",
     "output_type": "stream",
     "text": [
      "Enter the first name:Ayush\n",
      "Enter the last name:Sharma\n",
      "hsuyA amrahS"
     ]
    }
   ],
   "source": [
    "first_name=input(\"Enter the first name:\")\n",
    "last_name=input(\"Enter the last name:\")\n",
    "print(first_name[::-1],last_name[::-1],sep=\" \",end=\"\")"
   ]
  },
  {
   "cell_type": "markdown",
   "metadata": {},
   "source": [
    "Question 3:Write a Python program to find the volume of a sphere with diameter 12 cm.\n",
    "Formula: V=4/3 * π * r^3"
   ]
  },
  {
   "cell_type": "code",
   "execution_count": 20,
   "metadata": {},
   "outputs": [
    {
     "name": "stdout",
     "output_type": "stream",
     "text": [
      "Enter the diameter(in cm):12\n",
      "Volume of sphere with diameter(in cm) of 12.0 is: 904.7786842338603 cm^3\n"
     ]
    }
   ],
   "source": [
    "import math\n",
    "\n",
    "dia=float(input(\"Enter the diameter(in cm):\"))\n",
    "volume=4/3*math.pi*(dia/2)**3\n",
    "print(\"Volume of sphere with diameter(in cm) of\",dia,\"is:\",volume,\"cm^3\")"
   ]
  }
 ],
 "metadata": {
  "kernelspec": {
   "display_name": "Python 3",
   "language": "python",
   "name": "python3"
  },
  "language_info": {
   "codemirror_mode": {
    "name": "ipython",
    "version": 3
   },
   "file_extension": ".py",
   "mimetype": "text/x-python",
   "name": "python",
   "nbconvert_exporter": "python",
   "pygments_lexer": "ipython3",
   "version": "3.7.6"
  }
 },
 "nbformat": 4,
 "nbformat_minor": 4
}
