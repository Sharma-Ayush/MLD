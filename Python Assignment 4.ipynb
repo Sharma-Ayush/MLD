{
 "cells": [
  {
   "cell_type": "markdown",
   "metadata": {},
   "source": [
    "# Python Assignment 4"
   ]
  },
  {
   "cell_type": "markdown",
   "metadata": {},
   "source": [
    "Question 1.1:"
   ]
  },
  {
   "cell_type": "code",
   "execution_count": 1,
   "metadata": {},
   "outputs": [],
   "source": [
    "class lengths:\n",
    "    def __init__(self):\n",
    "        self.l=[0,0,0]\n",
    "        \n",
    "    def take_lengths(self):\n",
    "        print(\"Enter the lengths of triangle(positive values):\")\n",
    "        for i in range(3):\n",
    "            side=float(input())\n",
    "            self.l[i]=side\n",
    "\n",
    "\"\"\"            \n",
    "Following conditions need to be consdiered for checking if triangle is possible or not:\n",
    "1. If (a+b)<c where c is the largest side (2*c>sum)\n",
    "2. Atlest one side is zero the other two sides are unequal\n",
    "\"\"\"\n",
    "\n",
    "class triangle(lengths):\n",
    "    \n",
    "    def calc_area(self):\n",
    "        s=sum(self.l)\n",
    "        c=max(self.l)\n",
    "        a=min(self.l)\n",
    "        if (2*c>s) or ((a==0) and (not(2*c==s))): \n",
    "            return \"Triangle not possible\"\n",
    "        else:\n",
    "            s=s/2\n",
    "            area=s\n",
    "            for i in range(3):\n",
    "               area=area*(s-self.l[i])\n",
    "            return \"Area of given triangle is:\"+str(area**0.5)\n",
    "            "
   ]
  },
  {
   "cell_type": "code",
   "execution_count": 2,
   "metadata": {},
   "outputs": [
    {
     "name": "stdout",
     "output_type": "stream",
     "text": [
      "Enter the lengths of triangle(positive values):\n",
      "5\n",
      "4\n",
      "3\n",
      "Area of given triangle is:6.0\n"
     ]
    }
   ],
   "source": [
    "tri=triangle()\n",
    "tri.take_lengths()\n",
    "print(tri.calc_area())"
   ]
  },
  {
   "cell_type": "markdown",
   "metadata": {},
   "source": [
    "Question 1.2:Write a function filter_long_words() that takes a list of words and an integer n and returns\n",
    "the list of words that are longer than n."
   ]
  },
  {
   "cell_type": "code",
   "execution_count": 3,
   "metadata": {},
   "outputs": [],
   "source": [
    "def filter_long_words(lst,n):\n",
    "    l=[]\n",
    "    for i in lst:\n",
    "        if len(i)>n:\n",
    "            l.append(i)\n",
    "    return l"
   ]
  },
  {
   "cell_type": "code",
   "execution_count": 4,
   "metadata": {},
   "outputs": [
    {
     "name": "stdout",
     "output_type": "stream",
     "text": [
      "Enter the number of words:5\n",
      "Enter the list of words:\n",
      "hello\n",
      "to\n",
      "world\n",
      "of\n",
      "programming\n",
      "Enter the threshold value for length of words:3\n"
     ]
    },
    {
     "data": {
      "text/plain": [
       "['hello', 'world', 'programming']"
      ]
     },
     "execution_count": 4,
     "metadata": {},
     "output_type": "execute_result"
    }
   ],
   "source": [
    "n=int(input(\"Enter the number of words:\"))\n",
    "lst=[]\n",
    "print(\"Enter the list of words:\")\n",
    "for i in range(n):\n",
    "    data=input()\n",
    "    lst.append(data)\n",
    "word_length=int(input(\"Enter the threshold value for length of words:\"))\n",
    "filter_long_words(lst,word_length)"
   ]
  },
  {
   "cell_type": "markdown",
   "metadata": {},
   "source": [
    "Question 2.1:Write a Python program using function concept that maps list of words into a list of integers\n",
    "representing the lengths of the corresponding words."
   ]
  },
  {
   "cell_type": "code",
   "execution_count": 5,
   "metadata": {},
   "outputs": [],
   "source": [
    "def words_map_int(words_list):\n",
    "    l=[]\n",
    "    for i in words_list:\n",
    "        l.append(len(i))\n",
    "    return l"
   ]
  },
  {
   "cell_type": "code",
   "execution_count": 6,
   "metadata": {},
   "outputs": [
    {
     "name": "stdout",
     "output_type": "stream",
     "text": [
      "Enter the number of words:5\n",
      "Enter the list of words:\n",
      "hello\n",
      "to\n",
      "world\n",
      "of\n",
      "programming\n"
     ]
    },
    {
     "data": {
      "text/plain": [
       "[5, 2, 5, 2, 11]"
      ]
     },
     "execution_count": 6,
     "metadata": {},
     "output_type": "execute_result"
    }
   ],
   "source": [
    "n=int(input(\"Enter the number of words:\"))\n",
    "lst=[]\n",
    "print(\"Enter the list of words:\")\n",
    "for i in range(n):\n",
    "    data=input()\n",
    "    lst.append(data)\n",
    "words_map_int(lst)"
   ]
  },
  {
   "cell_type": "markdown",
   "metadata": {},
   "source": [
    "OR"
   ]
  },
  {
   "cell_type": "code",
   "execution_count": 7,
   "metadata": {},
   "outputs": [
    {
     "name": "stdout",
     "output_type": "stream",
     "text": [
      "Enter the number of words:5\n",
      "Enter the list of words:\n",
      "hello\n",
      "to\n",
      "world\n",
      "of\n",
      "programming\n"
     ]
    },
    {
     "data": {
      "text/plain": [
       "[5, 2, 5, 2, 11]"
      ]
     },
     "execution_count": 7,
     "metadata": {},
     "output_type": "execute_result"
    }
   ],
   "source": [
    "n=int(input(\"Enter the number of words:\"))\n",
    "lst=[]\n",
    "print(\"Enter the list of words:\")\n",
    "for i in range(n):\n",
    "    data=input()\n",
    "    lst.append(data)\n",
    "list(map(lambda x:len(x),lst))"
   ]
  },
  {
   "cell_type": "markdown",
   "metadata": {},
   "source": [
    "Question 2.2:Write a Python function which takes a character (i.e. a string of length 1) and returns True if\n",
    "it is a vowel, False otherwise."
   ]
  },
  {
   "cell_type": "code",
   "execution_count": 8,
   "metadata": {},
   "outputs": [],
   "source": [
    "def is_vowel(s):\n",
    "    if s=='a' or s=='e' or s=='i' or s=='o' or s=='u' or s=='A' or s=='E' or s=='I' or s=='O' or s=='U':\n",
    "        return True\n",
    "    else:\n",
    "        return False"
   ]
  },
  {
   "cell_type": "code",
   "execution_count": 9,
   "metadata": {},
   "outputs": [
    {
     "name": "stdout",
     "output_type": "stream",
     "text": [
      "Enter the character to be checked:A\n",
      "Character is a vowel\n"
     ]
    }
   ],
   "source": [
    "char=input(\"Enter the character to be checked:\")\n",
    "if is_vowel(char):\n",
    "    print(\"Character is a vowel\")\n",
    "else:\n",
    "    print(\"Character is not a vowel\")"
   ]
  }
 ],
 "metadata": {
  "kernelspec": {
   "display_name": "Python 3",
   "language": "python",
   "name": "python3"
  },
  "language_info": {
   "codemirror_mode": {
    "name": "ipython",
    "version": 3
   },
   "file_extension": ".py",
   "mimetype": "text/x-python",
   "name": "python",
   "nbconvert_exporter": "python",
   "pygments_lexer": "ipython3",
   "version": "3.7.6"
  }
 },
 "nbformat": 4,
 "nbformat_minor": 4
}
